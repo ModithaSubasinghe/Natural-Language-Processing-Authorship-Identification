{
 "cells": [
  {
   "cell_type": "code",
   "execution_count": 1,
   "metadata": {},
   "outputs": [],
   "source": [
    "import os\n",
    "import nltk\n",
    "import pandas as pd\n",
    "import re\n",
    "import string\n",
    "import numpy as np"
   ]
  },
  {
   "cell_type": "code",
   "execution_count": 2,
   "metadata": {},
   "outputs": [],
   "source": [
    "author_list = ['Charles Dickens','Jane Austen','Sir Arthur Conan Doyle','George Eliot','Jules Verne']"
   ]
  },
  {
   "cell_type": "code",
   "execution_count": 3,
   "metadata": {},
   "outputs": [],
   "source": [
    "L = 40# length of sentences to be extracted - L\n",
    "N = 1000 # number of records for a book - N"
   ]
  },
  {
   "cell_type": "code",
   "execution_count": 4,
   "metadata": {},
   "outputs": [
    {
     "name": "stdout",
     "output_type": "stream",
     "text": [
      "Author:Charles Dickens Book:Bleak House.txt Total records:8255 -> Extracted:1000\n",
      "Author:Charles Dickens Book:Hard Times.txt Total records:2409 -> Extracted:1000\n",
      "Author:Charles Dickens Book:Oliver Twist.txt Total records:3689 -> Extracted:1000\n",
      "Author:Charles Dickens Book:Our Mutual Friend.txt Total records:7475 -> Extracted:1000\n",
      "Author:Charles Dickens Book:The Pickwick Papers.txt Total records:6764 -> Extracted:1000\n",
      "Author:Jane Austen Book:Emma.txt Total records:3693 -> Extracted:1000\n",
      "Author:Jane Austen Book:Mansfield Park.txt Total records:3779 -> Extracted:1000\n",
      "Author:Jane Austen Book:Northanger Abbey.txt Total records:1834 -> Extracted:1000\n",
      "Author:Jane Austen Book:Pride and Prejudice.txt Total records:2869 -> Extracted:1000\n",
      "Author:Jane Austen Book:Sense and Sensibility.txt Total records:2868 -> Extracted:1000\n",
      "Author:Sir Arthur Conan Doyle Book:A Study in Scarlet.txt Total records:1038 -> Extracted:1000\n",
      "Author:Sir Arthur Conan Doyle Book:The Hound of the Baskervilles.txt Total records:1404 -> Extracted:1000\n",
      "Author:Sir Arthur Conan Doyle Book:The Lost World.txt Total records:1813 -> Extracted:1000\n",
      "Author:Sir Arthur Conan Doyle Book:The Return of Sherlock Holmes.txt Total records:2649 -> Extracted:1000\n",
      "Author:Sir Arthur Conan Doyle Book:The Sign of the Four.txt Total records:1025 -> Extracted:1000\n",
      "Author:George Eliot Book:Adam Bede.txt Total records:5057 -> Extracted:1000\n",
      "Author:George Eliot Book:Daniel Deronda.txt Total records:7366 -> Extracted:1000\n",
      "Author:George Eliot Book:Middlemarch.txt Total records:7424 -> Extracted:1000\n",
      "Author:George Eliot Book:Silas Marner.txt Total records:1683 -> Extracted:1000\n",
      "Author:George Eliot Book:The Mill on the Floss.txt Total records:4841 -> Extracted:1000\n",
      "Author:Jules Verne Book:A Journey to the Centre of the Earth.txt Total records:2068 -> Extracted:1000\n",
      "Author:Jules Verne Book:Around the World in Eighty Days.txt Total records:1419 -> Extracted:1000\n",
      "Author:Jules Verne Book:Five Weeks in a Balloon.txt Total records:2118 -> Extracted:1000\n",
      "Author:Jules Verne Book:The Mysterious Island.txt Total records:4548 -> Extracted:1000\n",
      "Author:Jules Verne Book:Twenty Thousand Leagues under the Sea.txt Total records:2410 -> Extracted:1000\n"
     ]
    }
   ],
   "source": [
    "sentances = pd.DataFrame()\n",
    "\n",
    "for author in author_list:\n",
    "    for book_name in os.listdir(f\"Data/{author}\"):\n",
    "        if book_name.endswith(\".txt\"):\n",
    "            file_path = (f\"Data/{author}/{book_name}\")\n",
    "            \n",
    "            data = open(file_path,'r',encoding=\"mbcs\").read()\n",
    "            data = re.sub('\\[.*?\\]','',data)\n",
    "            data = re.sub('[%s]' % re.escape(string.punctuation),'',data)#remove punctuation marks\n",
    "            data = re.sub('\\w*\\d\\w*','',data)#remove numbers\n",
    "            data = re.sub('[^a-zA-Z\\d\\s.]','',data)\n",
    "            data = \" \".join(data.split())\n",
    "#             print(\"before:\" ,len(data))\n",
    "            \n",
    "            tagged_sentence = nltk.tag.pos_tag(data.split())\n",
    "            edited_sentence = [word for word,tag in tagged_sentence if tag != 'NNP' and tag != 'NNPS']\n",
    "            paragraph = (' '.join(edited_sentence)).lower()\n",
    "#             print(\"After:\" ,len(paragraph))\n",
    "            \n",
    "            sentence_full =\"\"\n",
    "        \n",
    "            for sentence_read in paragraph:\n",
    "                sentence_full += sentence_read\n",
    "\n",
    "            words = sentence_full.split()\n",
    "            subs = []\n",
    "            for i in range(0, len(words), L):\n",
    "                subs.append(\" \".join(words[i:i+L]))\n",
    "\n",
    "            data_temp = pd.DataFrame(subs, columns=['text'])\n",
    "            data_temp[\"author\"] = author\n",
    "            data_temp[\"book\"] = book_name\n",
    "            data_temp[\"length\"] = data_temp[\"text\"].str.len()\n",
    "\n",
    "            data_temp = data_temp.sample(N, replace=True)\n",
    "\n",
    "            print(\"Author:\" + author + \" Book:\" + str(book_name) +\" Total records:\" + str(len(subs)) + \" -> Extracted:\" + str(len(data_temp)))        \n",
    "\n",
    "            sentances = pd.concat([sentances, data_temp], ignore_index=True)\n",
    "\n",
    "  "
   ]
  },
  {
   "cell_type": "code",
   "execution_count": 5,
   "metadata": {},
   "outputs": [
    {
     "data": {
      "text/html": [
       "<div>\n",
       "<style scoped>\n",
       "    .dataframe tbody tr th:only-of-type {\n",
       "        vertical-align: middle;\n",
       "    }\n",
       "\n",
       "    .dataframe tbody tr th {\n",
       "        vertical-align: top;\n",
       "    }\n",
       "\n",
       "    .dataframe thead th {\n",
       "        text-align: right;\n",
       "    }\n",
       "</style>\n",
       "<table border=\"1\" class=\"dataframe\">\n",
       "  <thead>\n",
       "    <tr style=\"text-align: right;\">\n",
       "      <th></th>\n",
       "      <th>text</th>\n",
       "      <th>author</th>\n",
       "      <th>book</th>\n",
       "      <th>length</th>\n",
       "    </tr>\n",
       "  </thead>\n",
       "  <tbody>\n",
       "    <tr>\n",
       "      <th>0</th>\n",
       "      <td>sage his grandson without receiving this good ...</td>\n",
       "      <td>Charles Dickens</td>\n",
       "      <td>Bleak House.txt</td>\n",
       "      <td>205</td>\n",
       "    </tr>\n",
       "    <tr>\n",
       "      <th>1</th>\n",
       "      <td>his eyes wide open more oblivious of the fowls...</td>\n",
       "      <td>Charles Dickens</td>\n",
       "      <td>Bleak House.txt</td>\n",
       "      <td>232</td>\n",
       "    </tr>\n",
       "    <tr>\n",
       "      <th>2</th>\n",
       "      <td>expect a judgment shortly then i shall release...</td>\n",
       "      <td>Charles Dickens</td>\n",
       "      <td>Bleak House.txt</td>\n",
       "      <td>210</td>\n",
       "    </tr>\n",
       "    <tr>\n",
       "      <th>3</th>\n",
       "      <td>have nothing whatever to say against her but s...</td>\n",
       "      <td>Charles Dickens</td>\n",
       "      <td>Bleak House.txt</td>\n",
       "      <td>218</td>\n",
       "    </tr>\n",
       "    <tr>\n",
       "      <th>4</th>\n",
       "      <td>came to a larger building than the generality ...</td>\n",
       "      <td>Charles Dickens</td>\n",
       "      <td>Bleak House.txt</td>\n",
       "      <td>213</td>\n",
       "    </tr>\n",
       "  </tbody>\n",
       "</table>\n",
       "</div>"
      ],
      "text/plain": [
       "                                                text           author  \\\n",
       "0  sage his grandson without receiving this good ...  Charles Dickens   \n",
       "1  his eyes wide open more oblivious of the fowls...  Charles Dickens   \n",
       "2  expect a judgment shortly then i shall release...  Charles Dickens   \n",
       "3  have nothing whatever to say against her but s...  Charles Dickens   \n",
       "4  came to a larger building than the generality ...  Charles Dickens   \n",
       "\n",
       "              book  length  \n",
       "0  Bleak House.txt     205  \n",
       "1  Bleak House.txt     232  \n",
       "2  Bleak House.txt     210  \n",
       "3  Bleak House.txt     218  \n",
       "4  Bleak House.txt     213  "
      ]
     },
     "execution_count": 5,
     "metadata": {},
     "output_type": "execute_result"
    }
   ],
   "source": [
    "sentances.head()"
   ]
  },
  {
   "cell_type": "code",
   "execution_count": 6,
   "metadata": {},
   "outputs": [],
   "source": [
    "extracted_dataset = sentances[['author', \"book\", 'text']].copy()"
   ]
  },
  {
   "cell_type": "code",
   "execution_count": 7,
   "metadata": {},
   "outputs": [],
   "source": [
    "extracted_dataset.to_csv(\"dataset_01.csv\") "
   ]
  },
  {
   "cell_type": "code",
   "execution_count": 8,
   "metadata": {},
   "outputs": [],
   "source": [
    "# entities = []\n",
    "#             labels = []\n",
    "            \n",
    "#             sentences = nltk.sent_tokenize(data)\n",
    "#             for sent in sentences:\n",
    "#                 for chunk in nltk.ne_chunk(nltk.pos_tag(nltk.word_tokenize(sent)),binary=False):\n",
    "#                     if hasattr (chunk,'label'):\n",
    "#                         entities.append(''.join(c[0] for c in chunk))\n",
    "#                         labels.append(chunk.label())\n",
    "                        \n",
    "#             entities_labels= list(set(zip(entities,labels)))\n",
    "#             entities_df=pd.DataFrame(entities_labels)\n",
    "#             entities_df.columns = [\"En\",\"Lab\"]\n",
    "#             entities_df"
   ]
  },
  {
   "cell_type": "code",
   "execution_count": 8,
   "metadata": {},
   "outputs": [],
   "source": []
  }
 ],
 "metadata": {
  "kernelspec": {
   "display_name": "Python 3 (ipykernel)",
   "language": "python",
   "name": "python3"
  },
  "language_info": {
   "codemirror_mode": {
    "name": "ipython",
    "version": 3
   },
   "file_extension": ".py",
   "mimetype": "text/x-python",
   "name": "python",
   "nbconvert_exporter": "python",
   "pygments_lexer": "ipython3",
   "version": "3.9.6"
  }
 },
 "nbformat": 4,
 "nbformat_minor": 1
}