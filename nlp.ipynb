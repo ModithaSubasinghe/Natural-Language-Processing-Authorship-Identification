{
 "cells": [
  {
   "cell_type": "code",
   "execution_count": 18,
   "metadata": {},
   "outputs": [],
   "source": [
    "import os\n",
    "import nltk\n",
    "import pandas as pd"
   ]
  },
  {
   "cell_type": "code",
   "execution_count": 19,
   "metadata": {},
   "outputs": [],
   "source": [
    "author_list = ['Charles Dickens','Jane Austen','Sir Arthur Conan Doyle','George Eliot','Jules Verne']\n",
    "\n",
    "book_name = [(\"A Christmas Carol\",\"Bleak House\",\"Hard Times\",\"Our Mutual Friend\",\"The Pickwick Papers\"),(\"Lady Susan\",\"Love and Freindship\",\"Mansfield Park\",\"Pride and Prejudice\",\"Sense and Sensibility\")]"
   ]
  },
  {
   "cell_type": "code",
   "execution_count": 20,
   "metadata": {},
   "outputs": [],
   "source": [
    "L = 50# length of sentences to be extracted - L\n",
    "N = 1000 # number of records for a book - N"
   ]
  },
  {
   "cell_type": "code",
   "execution_count": 21,
   "metadata": {},
   "outputs": [],
   "source": [
    "current_directory = os.getcwd()\n",
    "dataset_directory = os.path.join(current_directory, \"aaa\")"
   ]
  },
  {
   "cell_type": "code",
   "execution_count": 22,
   "metadata": {},
   "outputs": [
    {
     "name": "stdout",
     "output_type": "stream",
     "text": [
      "Author:Charles Dickens Book:0 Total records:6976 -> Extracted:1000\n",
      "Author:Charles Dickens Book:1 Total records:1830 -> Extracted:1000\n",
      "Author:Charles Dickens Book:2 Total records:4650 -> Extracted:1000\n",
      "Author:Charles Dickens Book:3 Total records:1967 -> Extracted:1000\n",
      "Author:Charles Dickens Book:4 Total records:2605 -> Extracted:1000\n",
      "Author:Jane Austen Book:0 Total records:1465 -> Extracted:1000\n",
      "Author:Jane Austen Book:1 Total records:3079 -> Extracted:1000\n",
      "Author:Jane Austen Book:2 Total records:2342 -> Extracted:1000\n",
      "Author:Jane Austen Book:3 Total records:2284 -> Extracted:1000\n",
      "Author:Jane Austen Book:4 Total records:1488 -> Extracted:1000\n",
      "Author:Sir Arthur Conan Doyle Book:0 Total records:2044 -> Extracted:1000\n",
      "Author:Sir Arthur Conan Doyle Book:1 Total records:1080 -> Extracted:1000\n",
      "Author:Sir Arthur Conan Doyle Book:2 Total records:1452 -> Extracted:1000\n",
      "Author:Sir Arthur Conan Doyle Book:3 Total records:1839 -> Extracted:1000\n",
      "Author:Sir Arthur Conan Doyle Book:4 Total records:2161 -> Extracted:1000\n",
      "Author:George Eliot Book:0 Total records:4190 -> Extracted:1000\n",
      "Author:George Eliot Book:1 Total records:4467 -> Extracted:1000\n",
      "Author:George Eliot Book:2 Total records:6230 -> Extracted:1000\n",
      "Author:George Eliot Book:3 Total records:3519 -> Extracted:1000\n",
      "Author:George Eliot Book:4 Total records:6070 -> Extracted:1000\n",
      "Author:Jules Verne Book:0 Total records:1194 -> Extracted:1000\n",
      "Author:Jules Verne Book:1 Total records:1956 -> Extracted:1000\n",
      "Author:Jules Verne Book:2 Total records:1620 -> Extracted:1000\n",
      "Author:Jules Verne Book:3 Total records:3769 -> Extracted:1000\n",
      "Author:Jules Verne Book:4 Total records:1776 -> Extracted:1000\n"
     ]
    }
   ],
   "source": [
    "import pandas as pd\n",
    "\n",
    "sentances = pd.DataFrame()\n",
    "\n",
    "for author in author_list:\n",
    "    for book_number in range(0,5,1):\n",
    "        text_file = os.path.join(dataset_directory, author, str(book_number) + \".txt\")\n",
    "        data_read = pd.DataFrame()\n",
    "        data_read = pd.read_csv(text_file,lineterminator=\".\", delimiter =\".\",names=[\"text\"],).replace({r'\\r\\n': ' '}, regex=True).replace('\\s+', ' ', regex=True).replace({r'[^a-zA-Z\\d\\s.]': ''}, regex=True)\n",
    "        \n",
    "        mask = (data_read['text'].str.len() > 20) & (data_read.index > 100) & (data_read.index < (len(data_read) - 250))\n",
    "        data_read = data_read.loc[mask]        \n",
    "              \n",
    "        data_read[\"text\"] = data_read[\"text\"].str.lower()\n",
    "        \n",
    "        sentence_full =\"\"\n",
    "        \n",
    "        for sentence_read in data_read[\"text\"]:\n",
    "            sentence_full += sentence_read\n",
    "            \n",
    "        words = sentence_full.split()\n",
    "        subs = []\n",
    "        for i in range(0, len(words), L):\n",
    "            subs.append(\" \".join(words[i:i+L]))\n",
    "        \n",
    "        data_temp = pd.DataFrame(subs, columns=['text'])\n",
    "        data_temp[\"author\"] = author\n",
    "        data_temp[\"book\"] = book_number\n",
    "        data_temp[\"length\"] = data_temp[\"text\"].str.len()\n",
    "        \n",
    "        data_temp = data_temp.sample(N)\n",
    "        \n",
    "        print(\"Author:\" + author + \" Book:\" + str(book_number) +\" Total records:\" + str(len(subs)) + \" -> Extracted:\" + str(len(data_temp)))        \n",
    "       \n",
    "        sentances = pd.concat([sentances, data_temp], ignore_index=True)\n",
    "\n"
   ]
  },
  {
   "cell_type": "code",
   "execution_count": 23,
   "metadata": {},
   "outputs": [],
   "source": [
    "extracted_dataset = sentances[['author', 'text']].copy()"
   ]
  },
  {
   "cell_type": "code",
   "execution_count": 24,
   "metadata": {},
   "outputs": [],
   "source": [
    "extracted_dataset.to_csv(\"dataset.csv\")"
   ]
  },
  {
   "cell_type": "code",
   "execution_count": null,
   "metadata": {},
   "outputs": [],
   "source": []
  }
 ],
 "metadata": {
  "kernelspec": {
   "display_name": "Python 3 (ipykernel)",
   "language": "python",
   "name": "python3"
  },
  "language_info": {
   "codemirror_mode": {
    "name": "ipython",
    "version": 3
   },
   "file_extension": ".py",
   "mimetype": "text/x-python",
   "name": "python",
   "nbconvert_exporter": "python",
   "pygments_lexer": "ipython3",
   "version": "3.9.6"
  }
 },
 "nbformat": 4,
 "nbformat_minor": 1
}